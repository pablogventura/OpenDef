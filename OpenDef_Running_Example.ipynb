{
  "nbformat": 4,
  "nbformat_minor": 0,
  "metadata": {
    "colab": {
      "provenance": []
    },
    "kernelspec": {
      "name": "python3",
      "display_name": "Python 3"
    },
    "language_info": {
      "name": "python"
    }
  },
  "cells": [
    {
      "cell_type": "markdown",
      "source": [
        "#OpenDef Running Example\n",
        "In this interactive example OpenDef is executed on a relational structure."
      ],
      "metadata": {
        "id": "-KgUkE-ezTAW"
      }
    },
    {
      "cell_type": "markdown",
      "source": [
        "## Minion CSP solver installation"
      ],
      "metadata": {
        "id": "BGANL5u-wUkZ"
      }
    },
    {
      "cell_type": "code",
      "source": [
        "!wget https://blogs.cs.st-andrews.ac.uk/constraintmodelling/files/2015/06/minion-1.8-linux.tar_1.gz\n",
        "!tar -xf minion-1.8-linux.tar_1.gz\n",
        "!mv minion-1.8/ /root/ # minion must be in the home of the current user"
      ],
      "metadata": {
        "colab": {
          "base_uri": "https://localhost:8080/"
        },
        "id": "06khZd4nvAnQ",
        "outputId": "af667b21-9318-4c57-caf3-3b9d443f0728"
      },
      "execution_count": 1,
      "outputs": [
        {
          "output_type": "stream",
          "name": "stdout",
          "text": [
            "--2023-01-12 11:47:58--  https://blogs.cs.st-andrews.ac.uk/constraintmodelling/files/2015/06/minion-1.8-linux.tar_1.gz\n",
            "Resolving blogs.cs.st-andrews.ac.uk (blogs.cs.st-andrews.ac.uk)... 138.251.22.75\n",
            "Connecting to blogs.cs.st-andrews.ac.uk (blogs.cs.st-andrews.ac.uk)|138.251.22.75|:443... connected.\n",
            "HTTP request sent, awaiting response... 200 OK\n",
            "Length: 16517977 (16M) [application/x-gzip]\n",
            "Saving to: ‘minion-1.8-linux.tar_1.gz’\n",
            "\n",
            "minion-1.8-linux.ta 100%[===================>]  15.75M  55.5MB/s    in 0.3s    \n",
            "\n",
            "2023-01-12 11:47:58 (55.5 MB/s) - ‘minion-1.8-linux.tar_1.gz’ saved [16517977/16517977]\n",
            "\n"
          ]
        }
      ]
    },
    {
      "cell_type": "markdown",
      "source": [
        "## OpenDef Installation"
      ],
      "metadata": {
        "id": "s1tTaylQwfs2"
      }
    },
    {
      "cell_type": "code",
      "execution_count": 2,
      "metadata": {
        "colab": {
          "base_uri": "https://localhost:8080/"
        },
        "id": "vQFKhg3modhT",
        "outputId": "ed36e98c-da86-4b4b-c4d6-d9bf07adea50"
      },
      "outputs": [
        {
          "output_type": "stream",
          "name": "stdout",
          "text": [
            "Cloning into 'OpenDef'...\n",
            "remote: Enumerating objects: 35, done.\u001b[K\n",
            "remote: Counting objects: 100% (17/17), done.\u001b[K\n",
            "remote: Compressing objects: 100% (17/17), done.\u001b[K\n",
            "remote: Total 35 (delta 1), reused 2 (delta 0), pack-reused 18\u001b[K\n",
            "Unpacking objects: 100% (35/35), done.\n"
          ]
        }
      ],
      "source": [
        "!git clone https://github.com/pablogventura/OpenDef.git"
      ]
    },
    {
      "cell_type": "markdown",
      "source": [
        "Example structure $\\mathbf{A}=(A,R_0,R_1)$:\n",
        "\n",
        "$A=\\{0,1,2,3,4\\}$\n",
        "\n",
        "$R_0=\\{(0,1),(1,2),(2,3),(3,4)\\}$\n",
        "\n",
        "$R_1=\\{(1,2),(2,3),(3,4)\\}$\n",
        "\n",
        "Where $T_0$ will be the relation to define:\n",
        "\n",
        "$T_0=\\{(0,1)\\}$"
      ],
      "metadata": {
        "id": "sb-hCynzwjvT"
      }
    },
    {
      "cell_type": "markdown",
      "source": [
        "In this file the structure is defined according to the format:"
      ],
      "metadata": {
        "id": "eYcSyJoEy4IR"
      }
    },
    {
      "cell_type": "code",
      "source": [
        "!cat OpenDef/test1.model"
      ],
      "metadata": {
        "colab": {
          "base_uri": "https://localhost:8080/"
        },
        "id": "PdDiQakyvuhU",
        "outputId": "3ac20d02-18fd-4e75-830c-9e1c5c060800"
      },
      "execution_count": 3,
      "outputs": [
        {
          "output_type": "stream",
          "name": "stdout",
          "text": [
            "0 1 2 3 4\n",
            "\n",
            "R0 4 2\n",
            "0 1\n",
            "1 2\n",
            "2 3\n",
            "3 4\n",
            "\n",
            "R1 3 2\n",
            "1 2\n",
            "2 3\n",
            "3 4\n",
            "\n",
            "T0 1 2\n",
            "0 1\n",
            "\n"
          ]
        }
      ]
    },
    {
      "cell_type": "markdown",
      "source": [
        "## Execution of OpenDef"
      ],
      "metadata": {
        "id": "RAxX-iiDzAPm"
      }
    },
    {
      "cell_type": "code",
      "source": [
        "!python OpenDef/main.py < OpenDef/test1.model"
      ],
      "metadata": {
        "colab": {
          "base_uri": "https://localhost:8080/"
        },
        "id": "WX_m2CQmrVch",
        "outputId": "961329e8-4952-4073-ae8b-96acf1cf5511"
      },
      "execution_count": 4,
      "outputs": [
        {
          "output_type": "stream",
          "name": "stdout",
          "text": [
            "R0 density: 0.160000\n",
            "R1 density: 0.120000\n",
            "T0 density: 0.040000\n",
            "Spectrum = [2]\n",
            "Subset 1 of 10    \tDiversity:0                              \rSubset 2 of 10    \tDiversity:1                              \rSubset 3 of 10    \tDiversity:2                              \rSubset 4 of 10    \tDiversity:2                              \rSubset 5 of 10    \tDiversity:2                              \rSubset 6 of 10    \tDiversity:3                              \rSubset 7 of 10    \tDiversity:3                              \rSubset 8 of 10    \tDiversity:3                              \rSubset 9 of 10    \tDiversity:3                              \rSubset 10 of 10    \tDiversity:3                              \rDEFINABLE\n",
            "\n",
            "Final state: \n",
            "  Diversity = 3\n",
            "    2-diversity = 3\n",
            "  #Auts = 1\n",
            "  #Isos = 7\n",
            "  10 calls to Minion\n",
            "  Minion total time = 0.025306000000000002 secs\n",
            "\n"
          ]
        }
      ]
    },
    {
      "cell_type": "code",
      "source": [
        "!python OpenDef/main.py < OpenDef/test2.model"
      ],
      "metadata": {
        "colab": {
          "base_uri": "https://localhost:8080/"
        },
        "id": "veSIZ0GpzHUH",
        "outputId": "1abe36dc-b90c-4f0e-ec96-140b30dc97d3"
      },
      "execution_count": 5,
      "outputs": [
        {
          "output_type": "stream",
          "name": "stdout",
          "text": [
            "R0|0-2|1| density: 0.400000\n",
            "R1 density: 0.400000\n",
            "R2 density: 0.400000\n",
            "R3 density: 0.400000\n",
            "R4 density: 0.400000\n",
            "R5 density: 0.400000\n",
            "R6 density: 0.400000\n",
            "R7 density: 0.400000\n",
            "R8 density: 0.400000\n",
            "R9 density: 0.400000\n",
            "T0 density: 0.400000\n",
            "Spectrum = [2, 1]\n",
            "DEFINABLE\n",
            "\n",
            "Final state: \n",
            "  Diversity = 210\n",
            "    1-diversity = 20\n",
            "    2-diversity = 190\n",
            "  #Auts = 0\n",
            "  #Isos = 0\n",
            "  210 calls to Minion\n",
            "  Minion total time = 0.22230699999999998 secs\n",
            "\n"
          ]
        }
      ]
    }
  ]
}